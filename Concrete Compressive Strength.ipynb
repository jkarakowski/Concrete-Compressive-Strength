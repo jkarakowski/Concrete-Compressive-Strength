{
 "cells": [
  {
   "cell_type": "markdown",
   "metadata": {
    "collapsed": true
   },
   "source": [
    "## Exploring Neural Networks using [Concrete Compressive Strength Set from UCI](https://archive.ics.uci.edu/ml/datasets/Concrete+Compressive+Strength)\n",
    "\n",
    "#### Analysis follows Chapter 7 of *Machine Learning with R* by Brett Lantz (though of course here we use Python, not R)"
   ]
  },
  {
   "cell_type": "markdown",
   "metadata": {},
   "source": [
    "Objective:  Use a neural network to predict the compressive strength of concrete."
   ]
  },
  {
   "cell_type": "markdown",
   "metadata": {},
   "source": [
    "We'll first use the MLPRegressor function provided by scikit-learn, then use Keras to create a customized neural net."
   ]
  },
  {
   "cell_type": "code",
   "execution_count": 1,
   "metadata": {},
   "outputs": [
    {
     "name": "stdout",
     "output_type": "stream",
     "text": [
      "Using matplotlib backend: MacOSX\n"
     ]
    }
   ],
   "source": [
    "import pandas as pd\n",
    "import numpy as np\n",
    "import matplotlib.pyplot as plt\n",
    "import warnings\n",
    "import itertools\n",
    "\n",
    "from sklearn.model_selection import train_test_split\n",
    "from sklearn.model_selection import GridSearchCV\n",
    "from sklearn.metrics import r2_score\n",
    "from sklearn.preprocessing import StandardScaler, MinMaxScaler\n",
    "\n",
    "from sklearn.neural_network import MLPRegressor\n",
    "\n",
    "from sklearn.pipeline import Pipeline\n",
    "\n",
    "from scipy.stats import pearsonr\n",
    "\n",
    "warnings.filterwarnings(\"ignore\")\n",
    "%matplotlib"
   ]
  },
  {
   "cell_type": "code",
   "execution_count": 2,
   "metadata": {
    "collapsed": true
   },
   "outputs": [],
   "source": [
    "data = pd.read_excel('Concrete_Data.xls')"
   ]
  },
  {
   "cell_type": "code",
   "execution_count": 3,
   "metadata": {
    "collapsed": true
   },
   "outputs": [],
   "source": [
    "data.columns = ['Cement','Blast Furnace Slag', 'Fly Ash', 'Water', 'Superplasticizer', 'Coarse Aggregate', \n",
    "                'Fine Aggregate', 'Age', 'Compressive Strength']"
   ]
  },
  {
   "cell_type": "code",
   "execution_count": 4,
   "metadata": {},
   "outputs": [
    {
     "data": {
      "text/html": [
       "<div>\n",
       "<style>\n",
       "    .dataframe thead tr:only-child th {\n",
       "        text-align: right;\n",
       "    }\n",
       "\n",
       "    .dataframe thead th {\n",
       "        text-align: left;\n",
       "    }\n",
       "\n",
       "    .dataframe tbody tr th {\n",
       "        vertical-align: top;\n",
       "    }\n",
       "</style>\n",
       "<table border=\"1\" class=\"dataframe\">\n",
       "  <thead>\n",
       "    <tr style=\"text-align: right;\">\n",
       "      <th></th>\n",
       "      <th>Cement</th>\n",
       "      <th>Blast Furnace Slag</th>\n",
       "      <th>Fly Ash</th>\n",
       "      <th>Water</th>\n",
       "      <th>Superplasticizer</th>\n",
       "      <th>Coarse Aggregate</th>\n",
       "      <th>Fine Aggregate</th>\n",
       "      <th>Age</th>\n",
       "      <th>Compressive Strength</th>\n",
       "    </tr>\n",
       "  </thead>\n",
       "  <tbody>\n",
       "    <tr>\n",
       "      <th>0</th>\n",
       "      <td>540.0</td>\n",
       "      <td>0.0</td>\n",
       "      <td>0.0</td>\n",
       "      <td>162.0</td>\n",
       "      <td>2.5</td>\n",
       "      <td>1040.0</td>\n",
       "      <td>676.0</td>\n",
       "      <td>28</td>\n",
       "      <td>79.986111</td>\n",
       "    </tr>\n",
       "    <tr>\n",
       "      <th>1</th>\n",
       "      <td>540.0</td>\n",
       "      <td>0.0</td>\n",
       "      <td>0.0</td>\n",
       "      <td>162.0</td>\n",
       "      <td>2.5</td>\n",
       "      <td>1055.0</td>\n",
       "      <td>676.0</td>\n",
       "      <td>28</td>\n",
       "      <td>61.887366</td>\n",
       "    </tr>\n",
       "    <tr>\n",
       "      <th>2</th>\n",
       "      <td>332.5</td>\n",
       "      <td>142.5</td>\n",
       "      <td>0.0</td>\n",
       "      <td>228.0</td>\n",
       "      <td>0.0</td>\n",
       "      <td>932.0</td>\n",
       "      <td>594.0</td>\n",
       "      <td>270</td>\n",
       "      <td>40.269535</td>\n",
       "    </tr>\n",
       "    <tr>\n",
       "      <th>3</th>\n",
       "      <td>332.5</td>\n",
       "      <td>142.5</td>\n",
       "      <td>0.0</td>\n",
       "      <td>228.0</td>\n",
       "      <td>0.0</td>\n",
       "      <td>932.0</td>\n",
       "      <td>594.0</td>\n",
       "      <td>365</td>\n",
       "      <td>41.052780</td>\n",
       "    </tr>\n",
       "    <tr>\n",
       "      <th>4</th>\n",
       "      <td>198.6</td>\n",
       "      <td>132.4</td>\n",
       "      <td>0.0</td>\n",
       "      <td>192.0</td>\n",
       "      <td>0.0</td>\n",
       "      <td>978.4</td>\n",
       "      <td>825.5</td>\n",
       "      <td>360</td>\n",
       "      <td>44.296075</td>\n",
       "    </tr>\n",
       "  </tbody>\n",
       "</table>\n",
       "</div>"
      ],
      "text/plain": [
       "   Cement  Blast Furnace Slag  Fly Ash  Water  Superplasticizer  \\\n",
       "0   540.0                 0.0      0.0  162.0               2.5   \n",
       "1   540.0                 0.0      0.0  162.0               2.5   \n",
       "2   332.5               142.5      0.0  228.0               0.0   \n",
       "3   332.5               142.5      0.0  228.0               0.0   \n",
       "4   198.6               132.4      0.0  192.0               0.0   \n",
       "\n",
       "   Coarse Aggregate  Fine Aggregate  Age  Compressive Strength  \n",
       "0            1040.0           676.0   28             79.986111  \n",
       "1            1055.0           676.0   28             61.887366  \n",
       "2             932.0           594.0  270             40.269535  \n",
       "3             932.0           594.0  365             41.052780  \n",
       "4             978.4           825.5  360             44.296075  "
      ]
     },
     "execution_count": 4,
     "metadata": {},
     "output_type": "execute_result"
    }
   ],
   "source": [
    "data.head(5)"
   ]
  },
  {
   "cell_type": "code",
   "execution_count": 5,
   "metadata": {},
   "outputs": [
    {
     "data": {
      "text/plain": [
       "(1030, 9)"
      ]
     },
     "execution_count": 5,
     "metadata": {},
     "output_type": "execute_result"
    }
   ],
   "source": [
    "data.shape"
   ]
  },
  {
   "cell_type": "code",
   "execution_count": 6,
   "metadata": {},
   "outputs": [
    {
     "data": {
      "text/html": [
       "<div>\n",
       "<style>\n",
       "    .dataframe thead tr:only-child th {\n",
       "        text-align: right;\n",
       "    }\n",
       "\n",
       "    .dataframe thead th {\n",
       "        text-align: left;\n",
       "    }\n",
       "\n",
       "    .dataframe tbody tr th {\n",
       "        vertical-align: top;\n",
       "    }\n",
       "</style>\n",
       "<table border=\"1\" class=\"dataframe\">\n",
       "  <thead>\n",
       "    <tr style=\"text-align: right;\">\n",
       "      <th></th>\n",
       "      <th>count</th>\n",
       "      <th>mean</th>\n",
       "      <th>std</th>\n",
       "      <th>min</th>\n",
       "      <th>25%</th>\n",
       "      <th>50%</th>\n",
       "      <th>75%</th>\n",
       "      <th>max</th>\n",
       "    </tr>\n",
       "  </thead>\n",
       "  <tbody>\n",
       "    <tr>\n",
       "      <th>Cement</th>\n",
       "      <td>1030.0</td>\n",
       "      <td>281.165631</td>\n",
       "      <td>104.507142</td>\n",
       "      <td>102.000000</td>\n",
       "      <td>192.375000</td>\n",
       "      <td>272.900000</td>\n",
       "      <td>350.000000</td>\n",
       "      <td>540.000000</td>\n",
       "    </tr>\n",
       "    <tr>\n",
       "      <th>Blast Furnace Slag</th>\n",
       "      <td>1030.0</td>\n",
       "      <td>73.895485</td>\n",
       "      <td>86.279104</td>\n",
       "      <td>0.000000</td>\n",
       "      <td>0.000000</td>\n",
       "      <td>22.000000</td>\n",
       "      <td>142.950000</td>\n",
       "      <td>359.400000</td>\n",
       "    </tr>\n",
       "    <tr>\n",
       "      <th>Fly Ash</th>\n",
       "      <td>1030.0</td>\n",
       "      <td>54.187136</td>\n",
       "      <td>63.996469</td>\n",
       "      <td>0.000000</td>\n",
       "      <td>0.000000</td>\n",
       "      <td>0.000000</td>\n",
       "      <td>118.270000</td>\n",
       "      <td>200.100000</td>\n",
       "    </tr>\n",
       "    <tr>\n",
       "      <th>Water</th>\n",
       "      <td>1030.0</td>\n",
       "      <td>181.566359</td>\n",
       "      <td>21.355567</td>\n",
       "      <td>121.750000</td>\n",
       "      <td>164.900000</td>\n",
       "      <td>185.000000</td>\n",
       "      <td>192.000000</td>\n",
       "      <td>247.000000</td>\n",
       "    </tr>\n",
       "    <tr>\n",
       "      <th>Superplasticizer</th>\n",
       "      <td>1030.0</td>\n",
       "      <td>6.203112</td>\n",
       "      <td>5.973492</td>\n",
       "      <td>0.000000</td>\n",
       "      <td>0.000000</td>\n",
       "      <td>6.350000</td>\n",
       "      <td>10.160000</td>\n",
       "      <td>32.200000</td>\n",
       "    </tr>\n",
       "    <tr>\n",
       "      <th>Coarse Aggregate</th>\n",
       "      <td>1030.0</td>\n",
       "      <td>972.918592</td>\n",
       "      <td>77.753818</td>\n",
       "      <td>801.000000</td>\n",
       "      <td>932.000000</td>\n",
       "      <td>968.000000</td>\n",
       "      <td>1029.400000</td>\n",
       "      <td>1145.000000</td>\n",
       "    </tr>\n",
       "    <tr>\n",
       "      <th>Fine Aggregate</th>\n",
       "      <td>1030.0</td>\n",
       "      <td>773.578883</td>\n",
       "      <td>80.175427</td>\n",
       "      <td>594.000000</td>\n",
       "      <td>730.950000</td>\n",
       "      <td>779.510000</td>\n",
       "      <td>824.000000</td>\n",
       "      <td>992.600000</td>\n",
       "    </tr>\n",
       "    <tr>\n",
       "      <th>Age</th>\n",
       "      <td>1030.0</td>\n",
       "      <td>45.662136</td>\n",
       "      <td>63.169912</td>\n",
       "      <td>1.000000</td>\n",
       "      <td>7.000000</td>\n",
       "      <td>28.000000</td>\n",
       "      <td>56.000000</td>\n",
       "      <td>365.000000</td>\n",
       "    </tr>\n",
       "    <tr>\n",
       "      <th>Compressive Strength</th>\n",
       "      <td>1030.0</td>\n",
       "      <td>35.817836</td>\n",
       "      <td>16.705679</td>\n",
       "      <td>2.331808</td>\n",
       "      <td>23.707115</td>\n",
       "      <td>34.442774</td>\n",
       "      <td>46.136287</td>\n",
       "      <td>82.599225</td>\n",
       "    </tr>\n",
       "  </tbody>\n",
       "</table>\n",
       "</div>"
      ],
      "text/plain": [
       "                       count        mean         std         min         25%  \\\n",
       "Cement                1030.0  281.165631  104.507142  102.000000  192.375000   \n",
       "Blast Furnace Slag    1030.0   73.895485   86.279104    0.000000    0.000000   \n",
       "Fly Ash               1030.0   54.187136   63.996469    0.000000    0.000000   \n",
       "Water                 1030.0  181.566359   21.355567  121.750000  164.900000   \n",
       "Superplasticizer      1030.0    6.203112    5.973492    0.000000    0.000000   \n",
       "Coarse Aggregate      1030.0  972.918592   77.753818  801.000000  932.000000   \n",
       "Fine Aggregate        1030.0  773.578883   80.175427  594.000000  730.950000   \n",
       "Age                   1030.0   45.662136   63.169912    1.000000    7.000000   \n",
       "Compressive Strength  1030.0   35.817836   16.705679    2.331808   23.707115   \n",
       "\n",
       "                             50%          75%          max  \n",
       "Cement                272.900000   350.000000   540.000000  \n",
       "Blast Furnace Slag     22.000000   142.950000   359.400000  \n",
       "Fly Ash                 0.000000   118.270000   200.100000  \n",
       "Water                 185.000000   192.000000   247.000000  \n",
       "Superplasticizer        6.350000    10.160000    32.200000  \n",
       "Coarse Aggregate      968.000000  1029.400000  1145.000000  \n",
       "Fine Aggregate        779.510000   824.000000   992.600000  \n",
       "Age                    28.000000    56.000000   365.000000  \n",
       "Compressive Strength   34.442774    46.136287    82.599225  "
      ]
     },
     "execution_count": 6,
     "metadata": {},
     "output_type": "execute_result"
    }
   ],
   "source": [
    "data.describe().T"
   ]
  },
  {
   "cell_type": "code",
   "execution_count": 7,
   "metadata": {
    "collapsed": true
   },
   "outputs": [],
   "source": [
    "y = data['Compressive Strength']\n",
    "X = data.drop(labels = ['Compressive Strength'], axis=1)"
   ]
  },
  {
   "cell_type": "markdown",
   "metadata": {},
   "source": [
    "Ok, let's start by following the exercise in Lantz:\n",
    "- scale the data to be in [0, 1]\n",
    "- train the neural net with only 1 node (otherwise we'll use the default parameters)\n",
    "- check the correlation between the predictions and the test data"
   ]
  },
  {
   "cell_type": "code",
   "execution_count": 8,
   "metadata": {
    "collapsed": true
   },
   "outputs": [],
   "source": [
    "X_train, X_test, y_train, y_test = train_test_split(X, y, test_size=0.3, random_state=7234)\n",
    "MMS = MinMaxScaler()\n",
    "MMS.fit(X_train)\n",
    "X_train = MMS.transform(X_train)\n",
    "X_test = MMS.transform(X_test)"
   ]
  },
  {
   "cell_type": "code",
   "execution_count": 9,
   "metadata": {
    "collapsed": true
   },
   "outputs": [],
   "source": [
    "NN = MLPRegressor(hidden_layer_sizes=(1,))\n",
    "NN.fit(X_train, y_train)\n",
    "predictions = NN.predict(X_test)"
   ]
  },
  {
   "cell_type": "code",
   "execution_count": 10,
   "metadata": {},
   "outputs": [
    {
     "data": {
      "text/plain": [
       "1"
      ]
     },
     "execution_count": 10,
     "metadata": {},
     "output_type": "execute_result"
    }
   ],
   "source": [
    "NN.n_outputs_ "
   ]
  },
  {
   "cell_type": "code",
   "execution_count": 11,
   "metadata": {},
   "outputs": [
    {
     "name": "stdout",
     "output_type": "stream",
     "text": [
      "correlation = 0.407342952661\n"
     ]
    }
   ],
   "source": [
    "print('correlation =', pearsonr(predictions, y_test)[0])"
   ]
  },
  {
   "cell_type": "code",
   "execution_count": 12,
   "metadata": {},
   "outputs": [
    {
     "name": "stdout",
     "output_type": "stream",
     "text": [
      "R2 score = -2.17568586835\n"
     ]
    }
   ],
   "source": [
    "print('R2 score =',NN.score(X_test, y_test))"
   ]
  },
  {
   "cell_type": "markdown",
   "metadata": {},
   "source": [
    "Well, this net doesn't do a very good job.  Let's create a pipeline and try varying the parameters to find one that works:\n",
    "- different scalers\n",
    "- different # of nodes/layers\n",
    "- different activation functions\n",
    "- different algorithms\n",
    "- different weights (alpha) for the l2 correction term\n",
    "\n",
    "We'll use R2 score as the accuracy measure.  Correlation will be used as a sanity check."
   ]
  },
  {
   "cell_type": "code",
   "execution_count": 13,
   "metadata": {},
   "outputs": [],
   "source": [
    "#scaler to be used in the grid search\n",
    "scaler_list = [\n",
    "    ('mm', MinMaxScaler(), {})\n",
    "    ,('std', StandardScaler(), {})\n",
    "\n",
    "]\n",
    "#parameters for the MLP regressor to be used in the grid search\n",
    "classifier_list = [\n",
    "    ('mlp', MLPRegressor(), {'mlp__hidden_layer_sizes': ((10,),(10, 10),(10, 10, 10), (30,),(30, 30),(30, 30, 30),\n",
    "                                                        (50,),(50, 50),(50, 50, 50),(100,),(100, 100),(100, 100, 100)),        \n",
    "    'mlp__activation':('logistic','relu','identity','tanh'),\n",
    "     'mlp__solver':('lbfgs','sgd','adam'),\n",
    "    'mlp__alpha':(1.0e-4,1.0e-3,1.0e-2,1.0e-1,1.0, 1.0e+1, 1.0e+2)})\n",
    "]\n",
    "results = {}\n",
    "\n",
    "#loop over all scalers (2) and classifiers (only 1 here)\n",
    "for s in scaler_list:\n",
    "    for c in classifier_list:\n",
    "        \n",
    "        pipeline = Pipeline([ (s[0], s[1]), (c[0], c[1]) ])\n",
    "\n",
    "        parameters = {}\n",
    "        parameters.update(s[2])\n",
    "        parameters.update(c[2])\n",
    "        \n",
    "        #do a grid search on the current scaler and classifier\n",
    "        grid_search = GridSearchCV(pipeline, parameters, scoring='r2', verbose=0, n_jobs=4)\n",
    "\n",
    "        results[(s[0], c[0])] = grid_search.fit(X_train,y_train)\n"
   ]
  },
  {
   "cell_type": "code",
   "execution_count": 14,
   "metadata": {},
   "outputs": [
    {
     "name": "stdout",
     "output_type": "stream",
     "text": [
      "Best R2 for MinMax scaling:  0.86933232991\n"
     ]
    }
   ],
   "source": [
    "print('Best R2 for MinMax scaling: ', results[('mm', 'mlp')].best_score_)"
   ]
  },
  {
   "cell_type": "code",
   "execution_count": 15,
   "metadata": {},
   "outputs": [
    {
     "name": "stdout",
     "output_type": "stream",
     "text": [
      "Best R2 for Z-scaling:  0.882166511735\n"
     ]
    }
   ],
   "source": [
    "print('Best R2 for Z-scaling: ',results[('std', 'mlp')].best_score_)"
   ]
  },
  {
   "cell_type": "markdown",
   "metadata": {},
   "source": [
    "Much better.  Let's see which parameters give the best test scores.  First, MinMax scaling:"
   ]
  },
  {
   "cell_type": "code",
   "execution_count": 16,
   "metadata": {},
   "outputs": [
    {
     "data": {
      "text/html": [
       "<div>\n",
       "<style>\n",
       "    .dataframe thead tr:only-child th {\n",
       "        text-align: right;\n",
       "    }\n",
       "\n",
       "    .dataframe thead th {\n",
       "        text-align: left;\n",
       "    }\n",
       "\n",
       "    .dataframe tbody tr th {\n",
       "        vertical-align: top;\n",
       "    }\n",
       "</style>\n",
       "<table border=\"1\" class=\"dataframe\">\n",
       "  <thead>\n",
       "    <tr style=\"text-align: right;\">\n",
       "      <th></th>\n",
       "      <th>mean_fit_time</th>\n",
       "      <th>mean_score_time</th>\n",
       "      <th>mean_test_score</th>\n",
       "      <th>mean_train_score</th>\n",
       "      <th>param_mlp__activation</th>\n",
       "      <th>param_mlp__alpha</th>\n",
       "      <th>param_mlp__hidden_layer_sizes</th>\n",
       "      <th>param_mlp__solver</th>\n",
       "      <th>params</th>\n",
       "      <th>rank_test_score</th>\n",
       "      <th>split0_test_score</th>\n",
       "      <th>split0_train_score</th>\n",
       "      <th>split1_test_score</th>\n",
       "      <th>split1_train_score</th>\n",
       "      <th>split2_test_score</th>\n",
       "      <th>split2_train_score</th>\n",
       "      <th>std_fit_time</th>\n",
       "      <th>std_score_time</th>\n",
       "      <th>std_test_score</th>\n",
       "      <th>std_train_score</th>\n",
       "    </tr>\n",
       "  </thead>\n",
       "  <tbody>\n",
       "    <tr>\n",
       "      <th>927</th>\n",
       "      <td>0.455612</td>\n",
       "      <td>0.001282</td>\n",
       "      <td>0.869332</td>\n",
       "      <td>0.939832</td>\n",
       "      <td>tanh</td>\n",
       "      <td>1</td>\n",
       "      <td>(100,)</td>\n",
       "      <td>lbfgs</td>\n",
       "      <td>{'mlp__solver': 'lbfgs', 'mlp__alpha': 1.0, 'm...</td>\n",
       "      <td>1</td>\n",
       "      <td>0.858329</td>\n",
       "      <td>0.944136</td>\n",
       "      <td>0.879283</td>\n",
       "      <td>0.931194</td>\n",
       "      <td>0.870432</td>\n",
       "      <td>0.944167</td>\n",
       "      <td>0.020130</td>\n",
       "      <td>0.000084</td>\n",
       "      <td>0.008593</td>\n",
       "      <td>0.006108</td>\n",
       "    </tr>\n",
       "    <tr>\n",
       "      <th>918</th>\n",
       "      <td>0.310932</td>\n",
       "      <td>0.000968</td>\n",
       "      <td>0.866853</td>\n",
       "      <td>0.928102</td>\n",
       "      <td>tanh</td>\n",
       "      <td>1</td>\n",
       "      <td>(50,)</td>\n",
       "      <td>lbfgs</td>\n",
       "      <td>{'mlp__solver': 'lbfgs', 'mlp__alpha': 1.0, 'm...</td>\n",
       "      <td>2</td>\n",
       "      <td>0.851582</td>\n",
       "      <td>0.933849</td>\n",
       "      <td>0.876704</td>\n",
       "      <td>0.912742</td>\n",
       "      <td>0.872337</td>\n",
       "      <td>0.937716</td>\n",
       "      <td>0.011839</td>\n",
       "      <td>0.000075</td>\n",
       "      <td>0.010966</td>\n",
       "      <td>0.010976</td>\n",
       "    </tr>\n",
       "    <tr>\n",
       "      <th>282</th>\n",
       "      <td>1.547511</td>\n",
       "      <td>0.001588</td>\n",
       "      <td>0.864609</td>\n",
       "      <td>0.921997</td>\n",
       "      <td>relu</td>\n",
       "      <td>0.0001</td>\n",
       "      <td>(100, 100)</td>\n",
       "      <td>lbfgs</td>\n",
       "      <td>{'mlp__solver': 'lbfgs', 'mlp__alpha': 0.0001,...</td>\n",
       "      <td>3</td>\n",
       "      <td>0.844834</td>\n",
       "      <td>0.927067</td>\n",
       "      <td>0.878915</td>\n",
       "      <td>0.911406</td>\n",
       "      <td>0.870160</td>\n",
       "      <td>0.927517</td>\n",
       "      <td>0.006709</td>\n",
       "      <td>0.000040</td>\n",
       "      <td>0.014460</td>\n",
       "      <td>0.007491</td>\n",
       "    </tr>\n",
       "    <tr>\n",
       "      <th>156</th>\n",
       "      <td>0.363346</td>\n",
       "      <td>0.000927</td>\n",
       "      <td>0.863960</td>\n",
       "      <td>0.927748</td>\n",
       "      <td>logistic</td>\n",
       "      <td>1</td>\n",
       "      <td>(30, 30)</td>\n",
       "      <td>lbfgs</td>\n",
       "      <td>{'mlp__solver': 'lbfgs', 'mlp__alpha': 1.0, 'm...</td>\n",
       "      <td>4</td>\n",
       "      <td>0.831027</td>\n",
       "      <td>0.925701</td>\n",
       "      <td>0.883401</td>\n",
       "      <td>0.923687</td>\n",
       "      <td>0.877590</td>\n",
       "      <td>0.933857</td>\n",
       "      <td>0.003942</td>\n",
       "      <td>0.000008</td>\n",
       "      <td>0.023456</td>\n",
       "      <td>0.004397</td>\n",
       "    </tr>\n",
       "    <tr>\n",
       "      <th>909</th>\n",
       "      <td>0.219124</td>\n",
       "      <td>0.000825</td>\n",
       "      <td>0.861604</td>\n",
       "      <td>0.920326</td>\n",
       "      <td>tanh</td>\n",
       "      <td>1</td>\n",
       "      <td>(30,)</td>\n",
       "      <td>lbfgs</td>\n",
       "      <td>{'mlp__solver': 'lbfgs', 'mlp__alpha': 1.0, 'm...</td>\n",
       "      <td>5</td>\n",
       "      <td>0.842356</td>\n",
       "      <td>0.924312</td>\n",
       "      <td>0.876408</td>\n",
       "      <td>0.906523</td>\n",
       "      <td>0.866127</td>\n",
       "      <td>0.930142</td>\n",
       "      <td>0.015505</td>\n",
       "      <td>0.000031</td>\n",
       "      <td>0.014269</td>\n",
       "      <td>0.010046</td>\n",
       "    </tr>\n",
       "  </tbody>\n",
       "</table>\n",
       "</div>"
      ],
      "text/plain": [
       "     mean_fit_time  mean_score_time  mean_test_score  mean_train_score  \\\n",
       "927       0.455612         0.001282         0.869332          0.939832   \n",
       "918       0.310932         0.000968         0.866853          0.928102   \n",
       "282       1.547511         0.001588         0.864609          0.921997   \n",
       "156       0.363346         0.000927         0.863960          0.927748   \n",
       "909       0.219124         0.000825         0.861604          0.920326   \n",
       "\n",
       "    param_mlp__activation param_mlp__alpha param_mlp__hidden_layer_sizes  \\\n",
       "927                  tanh                1                        (100,)   \n",
       "918                  tanh                1                         (50,)   \n",
       "282                  relu           0.0001                    (100, 100)   \n",
       "156              logistic                1                      (30, 30)   \n",
       "909                  tanh                1                         (30,)   \n",
       "\n",
       "    param_mlp__solver                                             params  \\\n",
       "927             lbfgs  {'mlp__solver': 'lbfgs', 'mlp__alpha': 1.0, 'm...   \n",
       "918             lbfgs  {'mlp__solver': 'lbfgs', 'mlp__alpha': 1.0, 'm...   \n",
       "282             lbfgs  {'mlp__solver': 'lbfgs', 'mlp__alpha': 0.0001,...   \n",
       "156             lbfgs  {'mlp__solver': 'lbfgs', 'mlp__alpha': 1.0, 'm...   \n",
       "909             lbfgs  {'mlp__solver': 'lbfgs', 'mlp__alpha': 1.0, 'm...   \n",
       "\n",
       "     rank_test_score  split0_test_score  split0_train_score  \\\n",
       "927                1           0.858329            0.944136   \n",
       "918                2           0.851582            0.933849   \n",
       "282                3           0.844834            0.927067   \n",
       "156                4           0.831027            0.925701   \n",
       "909                5           0.842356            0.924312   \n",
       "\n",
       "     split1_test_score  split1_train_score  split2_test_score  \\\n",
       "927           0.879283            0.931194           0.870432   \n",
       "918           0.876704            0.912742           0.872337   \n",
       "282           0.878915            0.911406           0.870160   \n",
       "156           0.883401            0.923687           0.877590   \n",
       "909           0.876408            0.906523           0.866127   \n",
       "\n",
       "     split2_train_score  std_fit_time  std_score_time  std_test_score  \\\n",
       "927            0.944167      0.020130        0.000084        0.008593   \n",
       "918            0.937716      0.011839        0.000075        0.010966   \n",
       "282            0.927517      0.006709        0.000040        0.014460   \n",
       "156            0.933857      0.003942        0.000008        0.023456   \n",
       "909            0.930142      0.015505        0.000031        0.014269   \n",
       "\n",
       "     std_train_score  \n",
       "927         0.006108  \n",
       "918         0.010976  \n",
       "282         0.007491  \n",
       "156         0.004397  \n",
       "909         0.010046  "
      ]
     },
     "execution_count": 16,
     "metadata": {},
     "output_type": "execute_result"
    }
   ],
   "source": [
    "rdf = pd.DataFrame(results[('mm', 'mlp')].cv_results_)\n",
    "rdf.sort_values(by='mean_test_score', ascending=False).head(5)"
   ]
  },
  {
   "cell_type": "code",
   "execution_count": 17,
   "metadata": {},
   "outputs": [
    {
     "data": {
      "text/html": [
       "<div>\n",
       "<style>\n",
       "    .dataframe thead tr:only-child th {\n",
       "        text-align: right;\n",
       "    }\n",
       "\n",
       "    .dataframe thead th {\n",
       "        text-align: left;\n",
       "    }\n",
       "\n",
       "    .dataframe tbody tr th {\n",
       "        vertical-align: top;\n",
       "    }\n",
       "</style>\n",
       "<table border=\"1\" class=\"dataframe\">\n",
       "  <thead>\n",
       "    <tr style=\"text-align: right;\">\n",
       "      <th></th>\n",
       "      <th>mean_fit_time</th>\n",
       "      <th>mean_score_time</th>\n",
       "      <th>mean_test_score</th>\n",
       "      <th>mean_train_score</th>\n",
       "      <th>param_mlp__activation</th>\n",
       "      <th>param_mlp__alpha</th>\n",
       "      <th>param_mlp__hidden_layer_sizes</th>\n",
       "      <th>param_mlp__solver</th>\n",
       "      <th>params</th>\n",
       "      <th>rank_test_score</th>\n",
       "      <th>split0_test_score</th>\n",
       "      <th>split0_train_score</th>\n",
       "      <th>split1_test_score</th>\n",
       "      <th>split1_train_score</th>\n",
       "      <th>split2_test_score</th>\n",
       "      <th>split2_train_score</th>\n",
       "      <th>std_fit_time</th>\n",
       "      <th>std_score_time</th>\n",
       "      <th>std_test_score</th>\n",
       "      <th>std_train_score</th>\n",
       "    </tr>\n",
       "  </thead>\n",
       "  <tbody>\n",
       "    <tr>\n",
       "      <th>501</th>\n",
       "      <td>2.500739</td>\n",
       "      <td>0.001932</td>\n",
       "      <td>0.882167</td>\n",
       "      <td>0.971690</td>\n",
       "      <td>relu</td>\n",
       "      <td>100</td>\n",
       "      <td>(100, 100, 100)</td>\n",
       "      <td>lbfgs</td>\n",
       "      <td>{'mlp__solver': 'lbfgs', 'mlp__alpha': 100.0, ...</td>\n",
       "      <td>1</td>\n",
       "      <td>0.856028</td>\n",
       "      <td>0.971337</td>\n",
       "      <td>0.901952</td>\n",
       "      <td>0.974361</td>\n",
       "      <td>0.888629</td>\n",
       "      <td>0.969373</td>\n",
       "      <td>0.034118</td>\n",
       "      <td>0.000159</td>\n",
       "      <td>0.019302</td>\n",
       "      <td>0.002052</td>\n",
       "    </tr>\n",
       "    <tr>\n",
       "      <th>963</th>\n",
       "      <td>0.423166</td>\n",
       "      <td>0.001249</td>\n",
       "      <td>0.881758</td>\n",
       "      <td>0.968023</td>\n",
       "      <td>tanh</td>\n",
       "      <td>10</td>\n",
       "      <td>(100,)</td>\n",
       "      <td>lbfgs</td>\n",
       "      <td>{'mlp__solver': 'lbfgs', 'mlp__alpha': 10.0, '...</td>\n",
       "      <td>2</td>\n",
       "      <td>0.859192</td>\n",
       "      <td>0.970434</td>\n",
       "      <td>0.891540</td>\n",
       "      <td>0.965678</td>\n",
       "      <td>0.894637</td>\n",
       "      <td>0.967958</td>\n",
       "      <td>0.015636</td>\n",
       "      <td>0.000079</td>\n",
       "      <td>0.016040</td>\n",
       "      <td>0.001942</td>\n",
       "    </tr>\n",
       "    <tr>\n",
       "      <th>483</th>\n",
       "      <td>0.509851</td>\n",
       "      <td>0.000998</td>\n",
       "      <td>0.881330</td>\n",
       "      <td>0.958858</td>\n",
       "      <td>relu</td>\n",
       "      <td>100</td>\n",
       "      <td>(30, 30, 30)</td>\n",
       "      <td>lbfgs</td>\n",
       "      <td>{'mlp__solver': 'lbfgs', 'mlp__alpha': 100.0, ...</td>\n",
       "      <td>3</td>\n",
       "      <td>0.857275</td>\n",
       "      <td>0.961008</td>\n",
       "      <td>0.891072</td>\n",
       "      <td>0.954082</td>\n",
       "      <td>0.895741</td>\n",
       "      <td>0.961484</td>\n",
       "      <td>0.016881</td>\n",
       "      <td>0.000025</td>\n",
       "      <td>0.017150</td>\n",
       "      <td>0.003383</td>\n",
       "    </tr>\n",
       "    <tr>\n",
       "      <th>954</th>\n",
       "      <td>0.322067</td>\n",
       "      <td>0.001043</td>\n",
       "      <td>0.879919</td>\n",
       "      <td>0.961848</td>\n",
       "      <td>tanh</td>\n",
       "      <td>10</td>\n",
       "      <td>(50,)</td>\n",
       "      <td>lbfgs</td>\n",
       "      <td>{'mlp__solver': 'lbfgs', 'mlp__alpha': 10.0, '...</td>\n",
       "      <td>4</td>\n",
       "      <td>0.861349</td>\n",
       "      <td>0.966423</td>\n",
       "      <td>0.895001</td>\n",
       "      <td>0.959248</td>\n",
       "      <td>0.883485</td>\n",
       "      <td>0.959873</td>\n",
       "      <td>0.014220</td>\n",
       "      <td>0.000056</td>\n",
       "      <td>0.013972</td>\n",
       "      <td>0.003245</td>\n",
       "    </tr>\n",
       "    <tr>\n",
       "      <th>492</th>\n",
       "      <td>1.201638</td>\n",
       "      <td>0.001326</td>\n",
       "      <td>0.877526</td>\n",
       "      <td>0.966228</td>\n",
       "      <td>relu</td>\n",
       "      <td>100</td>\n",
       "      <td>(50, 50, 50)</td>\n",
       "      <td>lbfgs</td>\n",
       "      <td>{'mlp__solver': 'lbfgs', 'mlp__alpha': 100.0, ...</td>\n",
       "      <td>5</td>\n",
       "      <td>0.845841</td>\n",
       "      <td>0.970947</td>\n",
       "      <td>0.897508</td>\n",
       "      <td>0.963460</td>\n",
       "      <td>0.889360</td>\n",
       "      <td>0.964277</td>\n",
       "      <td>0.056364</td>\n",
       "      <td>0.000017</td>\n",
       "      <td>0.022696</td>\n",
       "      <td>0.003353</td>\n",
       "    </tr>\n",
       "  </tbody>\n",
       "</table>\n",
       "</div>"
      ],
      "text/plain": [
       "     mean_fit_time  mean_score_time  mean_test_score  mean_train_score  \\\n",
       "501       2.500739         0.001932         0.882167          0.971690   \n",
       "963       0.423166         0.001249         0.881758          0.968023   \n",
       "483       0.509851         0.000998         0.881330          0.958858   \n",
       "954       0.322067         0.001043         0.879919          0.961848   \n",
       "492       1.201638         0.001326         0.877526          0.966228   \n",
       "\n",
       "    param_mlp__activation param_mlp__alpha param_mlp__hidden_layer_sizes  \\\n",
       "501                  relu              100               (100, 100, 100)   \n",
       "963                  tanh               10                        (100,)   \n",
       "483                  relu              100                  (30, 30, 30)   \n",
       "954                  tanh               10                         (50,)   \n",
       "492                  relu              100                  (50, 50, 50)   \n",
       "\n",
       "    param_mlp__solver                                             params  \\\n",
       "501             lbfgs  {'mlp__solver': 'lbfgs', 'mlp__alpha': 100.0, ...   \n",
       "963             lbfgs  {'mlp__solver': 'lbfgs', 'mlp__alpha': 10.0, '...   \n",
       "483             lbfgs  {'mlp__solver': 'lbfgs', 'mlp__alpha': 100.0, ...   \n",
       "954             lbfgs  {'mlp__solver': 'lbfgs', 'mlp__alpha': 10.0, '...   \n",
       "492             lbfgs  {'mlp__solver': 'lbfgs', 'mlp__alpha': 100.0, ...   \n",
       "\n",
       "     rank_test_score  split0_test_score  split0_train_score  \\\n",
       "501                1           0.856028            0.971337   \n",
       "963                2           0.859192            0.970434   \n",
       "483                3           0.857275            0.961008   \n",
       "954                4           0.861349            0.966423   \n",
       "492                5           0.845841            0.970947   \n",
       "\n",
       "     split1_test_score  split1_train_score  split2_test_score  \\\n",
       "501           0.901952            0.974361           0.888629   \n",
       "963           0.891540            0.965678           0.894637   \n",
       "483           0.891072            0.954082           0.895741   \n",
       "954           0.895001            0.959248           0.883485   \n",
       "492           0.897508            0.963460           0.889360   \n",
       "\n",
       "     split2_train_score  std_fit_time  std_score_time  std_test_score  \\\n",
       "501            0.969373      0.034118        0.000159        0.019302   \n",
       "963            0.967958      0.015636        0.000079        0.016040   \n",
       "483            0.961484      0.016881        0.000025        0.017150   \n",
       "954            0.959873      0.014220        0.000056        0.013972   \n",
       "492            0.964277      0.056364        0.000017        0.022696   \n",
       "\n",
       "     std_train_score  \n",
       "501         0.002052  \n",
       "963         0.001942  \n",
       "483         0.003383  \n",
       "954         0.003245  \n",
       "492         0.003353  "
      ]
     },
     "execution_count": 17,
     "metadata": {},
     "output_type": "execute_result"
    }
   ],
   "source": [
    "rdf = pd.DataFrame(results[('std', 'mlp')].cv_results_)\n",
    "rdf.sort_values(by='mean_test_score', ascending=False).head(5)"
   ]
  },
  {
   "cell_type": "markdown",
   "metadata": {},
   "source": [
    "The highest scores are for Z-scaled data, the lbfgs algorithm, and the relu function with higher alpha.  Higher alphas seem to require more hidden layers, while lower alphas require fewer.  At the risk of overfitting, let's try to come up with even better values, using alphas between 1 and 100, and varying the number of nodes, keeping only one or 2 hidden layers."
   ]
  },
  {
   "cell_type": "code",
   "execution_count": 18,
   "metadata": {},
   "outputs": [],
   "source": [
    "scaler_list = [\n",
    "    ('std', StandardScaler(), {})\n",
    "]\n",
    "classifier_list = [\n",
    "    ('mlp', MLPRegressor(), {'mlp__hidden_layer_sizes': ((30,),(30, 30), (40,),(40, 40), (50,),(50, 50),\n",
    "                                                        (60,),(60, 60),(70,),(70, 70),(80,), (80, 80),\n",
    "                                                        (90,),(90, 90),(100,),(100, 100)),        \n",
    "    'mlp__activation':('relu',),\n",
    "    'mlp__solver':('lbfgs',),\n",
    "    'mlp__alpha':(1, 5, 10, 20, 50, 100)})\n",
    "]\n",
    "results = {}\n",
    "\n",
    "for s in scaler_list:\n",
    "    for c in classifier_list:\n",
    "        \n",
    "        pipeline = Pipeline([ (s[0], s[1]), (c[0], c[1]) ])\n",
    "\n",
    "        parameters = {}\n",
    "        parameters.update(s[2])\n",
    "        parameters.update(c[2])\n",
    "\n",
    "        grid_search = GridSearchCV(pipeline, parameters, scoring='r2', verbose=0, n_jobs=4)\n",
    "\n",
    "        results[(s[0], c[0])] = grid_search.fit(X_train,y_train)\n",
    "    "
   ]
  },
  {
   "cell_type": "code",
   "execution_count": 19,
   "metadata": {},
   "outputs": [
    {
     "data": {
      "text/html": [
       "<div>\n",
       "<style>\n",
       "    .dataframe thead tr:only-child th {\n",
       "        text-align: right;\n",
       "    }\n",
       "\n",
       "    .dataframe thead th {\n",
       "        text-align: left;\n",
       "    }\n",
       "\n",
       "    .dataframe tbody tr th {\n",
       "        vertical-align: top;\n",
       "    }\n",
       "</style>\n",
       "<table border=\"1\" class=\"dataframe\">\n",
       "  <thead>\n",
       "    <tr style=\"text-align: right;\">\n",
       "      <th></th>\n",
       "      <th>mean_fit_time</th>\n",
       "      <th>mean_score_time</th>\n",
       "      <th>mean_test_score</th>\n",
       "      <th>mean_train_score</th>\n",
       "      <th>param_mlp__activation</th>\n",
       "      <th>param_mlp__alpha</th>\n",
       "      <th>param_mlp__hidden_layer_sizes</th>\n",
       "      <th>param_mlp__solver</th>\n",
       "      <th>params</th>\n",
       "      <th>rank_test_score</th>\n",
       "      <th>split0_test_score</th>\n",
       "      <th>split0_train_score</th>\n",
       "      <th>split1_test_score</th>\n",
       "      <th>split1_train_score</th>\n",
       "      <th>split2_test_score</th>\n",
       "      <th>split2_train_score</th>\n",
       "      <th>std_fit_time</th>\n",
       "      <th>std_score_time</th>\n",
       "      <th>std_test_score</th>\n",
       "      <th>std_train_score</th>\n",
       "    </tr>\n",
       "  </thead>\n",
       "  <tbody>\n",
       "    <tr>\n",
       "      <th>69</th>\n",
       "      <td>0.612897</td>\n",
       "      <td>0.001081</td>\n",
       "      <td>0.881365</td>\n",
       "      <td>0.961319</td>\n",
       "      <td>relu</td>\n",
       "      <td>50</td>\n",
       "      <td>(50, 50)</td>\n",
       "      <td>lbfgs</td>\n",
       "      <td>{'mlp__solver': 'lbfgs', 'mlp__alpha': 50, 'ml...</td>\n",
       "      <td>1</td>\n",
       "      <td>0.851039</td>\n",
       "      <td>0.960029</td>\n",
       "      <td>0.905638</td>\n",
       "      <td>0.962458</td>\n",
       "      <td>0.887546</td>\n",
       "      <td>0.961471</td>\n",
       "      <td>0.007971</td>\n",
       "      <td>0.000007</td>\n",
       "      <td>0.022721</td>\n",
       "      <td>0.000997</td>\n",
       "    </tr>\n",
       "    <tr>\n",
       "      <th>47</th>\n",
       "      <td>1.908198</td>\n",
       "      <td>0.001661</td>\n",
       "      <td>0.880527</td>\n",
       "      <td>0.982358</td>\n",
       "      <td>relu</td>\n",
       "      <td>10</td>\n",
       "      <td>(100, 100)</td>\n",
       "      <td>lbfgs</td>\n",
       "      <td>{'mlp__solver': 'lbfgs', 'mlp__alpha': 10, 'ml...</td>\n",
       "      <td>2</td>\n",
       "      <td>0.844885</td>\n",
       "      <td>0.983387</td>\n",
       "      <td>0.893745</td>\n",
       "      <td>0.981364</td>\n",
       "      <td>0.903099</td>\n",
       "      <td>0.982323</td>\n",
       "      <td>0.025905</td>\n",
       "      <td>0.000272</td>\n",
       "      <td>0.025541</td>\n",
       "      <td>0.000826</td>\n",
       "    </tr>\n",
       "    <tr>\n",
       "      <th>14</th>\n",
       "      <td>0.367274</td>\n",
       "      <td>0.001179</td>\n",
       "      <td>0.880134</td>\n",
       "      <td>0.968935</td>\n",
       "      <td>relu</td>\n",
       "      <td>1</td>\n",
       "      <td>(100,)</td>\n",
       "      <td>lbfgs</td>\n",
       "      <td>{'mlp__solver': 'lbfgs', 'mlp__alpha': 1, 'mlp...</td>\n",
       "      <td>3</td>\n",
       "      <td>0.857414</td>\n",
       "      <td>0.969064</td>\n",
       "      <td>0.887441</td>\n",
       "      <td>0.970277</td>\n",
       "      <td>0.895641</td>\n",
       "      <td>0.967462</td>\n",
       "      <td>0.007989</td>\n",
       "      <td>0.000306</td>\n",
       "      <td>0.016442</td>\n",
       "      <td>0.001153</td>\n",
       "    </tr>\n",
       "    <tr>\n",
       "      <th>29</th>\n",
       "      <td>1.525953</td>\n",
       "      <td>0.001761</td>\n",
       "      <td>0.878272</td>\n",
       "      <td>0.980228</td>\n",
       "      <td>relu</td>\n",
       "      <td>5</td>\n",
       "      <td>(90, 90)</td>\n",
       "      <td>lbfgs</td>\n",
       "      <td>{'mlp__solver': 'lbfgs', 'mlp__alpha': 5, 'mlp...</td>\n",
       "      <td>4</td>\n",
       "      <td>0.842130</td>\n",
       "      <td>0.982050</td>\n",
       "      <td>0.903341</td>\n",
       "      <td>0.979508</td>\n",
       "      <td>0.889496</td>\n",
       "      <td>0.979125</td>\n",
       "      <td>0.090760</td>\n",
       "      <td>0.000406</td>\n",
       "      <td>0.026225</td>\n",
       "      <td>0.001298</td>\n",
       "    </tr>\n",
       "    <tr>\n",
       "      <th>77</th>\n",
       "      <td>1.547184</td>\n",
       "      <td>0.001456</td>\n",
       "      <td>0.878164</td>\n",
       "      <td>0.967602</td>\n",
       "      <td>relu</td>\n",
       "      <td>50</td>\n",
       "      <td>(90, 90)</td>\n",
       "      <td>lbfgs</td>\n",
       "      <td>{'mlp__solver': 'lbfgs', 'mlp__alpha': 50, 'ml...</td>\n",
       "      <td>5</td>\n",
       "      <td>0.848060</td>\n",
       "      <td>0.969957</td>\n",
       "      <td>0.888188</td>\n",
       "      <td>0.966420</td>\n",
       "      <td>0.898369</td>\n",
       "      <td>0.966430</td>\n",
       "      <td>0.040029</td>\n",
       "      <td>0.000011</td>\n",
       "      <td>0.021732</td>\n",
       "      <td>0.001665</td>\n",
       "    </tr>\n",
       "  </tbody>\n",
       "</table>\n",
       "</div>"
      ],
      "text/plain": [
       "    mean_fit_time  mean_score_time  mean_test_score  mean_train_score  \\\n",
       "69       0.612897         0.001081         0.881365          0.961319   \n",
       "47       1.908198         0.001661         0.880527          0.982358   \n",
       "14       0.367274         0.001179         0.880134          0.968935   \n",
       "29       1.525953         0.001761         0.878272          0.980228   \n",
       "77       1.547184         0.001456         0.878164          0.967602   \n",
       "\n",
       "   param_mlp__activation param_mlp__alpha param_mlp__hidden_layer_sizes  \\\n",
       "69                  relu               50                      (50, 50)   \n",
       "47                  relu               10                    (100, 100)   \n",
       "14                  relu                1                        (100,)   \n",
       "29                  relu                5                      (90, 90)   \n",
       "77                  relu               50                      (90, 90)   \n",
       "\n",
       "   param_mlp__solver                                             params  \\\n",
       "69             lbfgs  {'mlp__solver': 'lbfgs', 'mlp__alpha': 50, 'ml...   \n",
       "47             lbfgs  {'mlp__solver': 'lbfgs', 'mlp__alpha': 10, 'ml...   \n",
       "14             lbfgs  {'mlp__solver': 'lbfgs', 'mlp__alpha': 1, 'mlp...   \n",
       "29             lbfgs  {'mlp__solver': 'lbfgs', 'mlp__alpha': 5, 'mlp...   \n",
       "77             lbfgs  {'mlp__solver': 'lbfgs', 'mlp__alpha': 50, 'ml...   \n",
       "\n",
       "    rank_test_score  split0_test_score  split0_train_score  split1_test_score  \\\n",
       "69                1           0.851039            0.960029           0.905638   \n",
       "47                2           0.844885            0.983387           0.893745   \n",
       "14                3           0.857414            0.969064           0.887441   \n",
       "29                4           0.842130            0.982050           0.903341   \n",
       "77                5           0.848060            0.969957           0.888188   \n",
       "\n",
       "    split1_train_score  split2_test_score  split2_train_score  std_fit_time  \\\n",
       "69            0.962458           0.887546            0.961471      0.007971   \n",
       "47            0.981364           0.903099            0.982323      0.025905   \n",
       "14            0.970277           0.895641            0.967462      0.007989   \n",
       "29            0.979508           0.889496            0.979125      0.090760   \n",
       "77            0.966420           0.898369            0.966430      0.040029   \n",
       "\n",
       "    std_score_time  std_test_score  std_train_score  \n",
       "69        0.000007        0.022721         0.000997  \n",
       "47        0.000272        0.025541         0.000826  \n",
       "14        0.000306        0.016442         0.001153  \n",
       "29        0.000406        0.026225         0.001298  \n",
       "77        0.000011        0.021732         0.001665  "
      ]
     },
     "execution_count": 19,
     "metadata": {},
     "output_type": "execute_result"
    }
   ],
   "source": [
    "rdf = pd.DataFrame(results[('std', 'mlp')].cv_results_)\n",
    "rdf.sort_values(by='mean_test_score', ascending=False).head(5)"
   ]
  },
  {
   "cell_type": "markdown",
   "metadata": {},
   "source": [
    "The best values are alpha=50 and two hidden layers of 50 nodes each.  Let's see how this looks on the test data:"
   ]
  },
  {
   "cell_type": "code",
   "execution_count": 20,
   "metadata": {},
   "outputs": [
    {
     "name": "stdout",
     "output_type": "stream",
     "text": [
      "correlation = 0.95795267284\n",
      "R2 score = 0.917300471449\n"
     ]
    }
   ],
   "source": [
    "X_train, X_test, y_train, y_test = train_test_split(X, y, test_size=0.3, random_state=7234)\n",
    "ZS = StandardScaler()\n",
    "ZS.fit(X_train)\n",
    "X_train = ZS.transform(X_train)\n",
    "X_test = ZS.transform(X_test)\n",
    "NN = MLPRegressor(hidden_layer_sizes=(50, 50), solver='lbfgs', alpha=50, activation='relu')\n",
    "#NN = MLPRegressor(hidden_layer_sizes=(30,30), solver='lbfgs', alpha=10, activation='relu')\n",
    "NN.fit(X_train, y_train)\n",
    "predictions = NN.predict(X_test)\n",
    "print('correlation =', pearsonr(predictions, y_test)[0])\n",
    "print('R2 score =',NN.score(X_test, y_test))"
   ]
  },
  {
   "cell_type": "markdown",
   "metadata": {},
   "source": [
    "This is quite nice.  And visually, the points lie fairly close to the 45 degree line:"
   ]
  },
  {
   "cell_type": "code",
   "execution_count": 21,
   "metadata": {},
   "outputs": [
    {
     "data": {
      "image/png": "[encoded data removed]",
      "text/plain": [
       "<matplotlib.figure.Figure at 0x112a54240>"
      ]
     },
     "metadata": {},
     "output_type": "display_data"
    }
   ],
   "source": [
    "%matplotlib inline \n",
    "plt.scatter(y_test, predictions, marker='o', color='g')\n",
    "plt.plot((0,80),(0,80), color='r')\n",
    "plt.xlabel('Actual test compression strength')\n",
    "plt.ylabel('Predicted test compression strength')\n",
    "plt.title('Predicted vs Actual')\n",
    "plt.show()"
   ]
  },
  {
   "cell_type": "markdown",
   "metadata": {
    "collapsed": true
   },
   "source": [
    "Next, let's try creating a neural net in Keras:"
   ]
  },
  {
   "cell_type": "code",
   "execution_count": 22,
   "metadata": {},
   "outputs": [
    {
     "name": "stderr",
     "output_type": "stream",
     "text": [
      "Using TensorFlow backend.\n"
     ]
    }
   ],
   "source": [
    "from keras.models import Sequential\n",
    "from keras.layers import Dense, Activation, BatchNormalization\n",
    "from keras import regularizers\n",
    "from keras.wrappers.scikit_learn import KerasRegressor\n",
    "import keras.backend as K"
   ]
  },
  {
   "cell_type": "code",
   "execution_count": 23,
   "metadata": {
    "collapsed": true
   },
   "outputs": [],
   "source": [
    "#standard scaler had the best performance above, so let's just stick with that\n",
    "X_train, X_test, y_train, y_test = train_test_split(X, y, test_size=0.3, random_state=7234)\n",
    "SS = StandardScaler()\n",
    "SS.fit(X_train)\n",
    "X_train = SS.transform(X_train)\n",
    "X_test = SS.transform(X_test)"
   ]
  },
  {
   "cell_type": "code",
   "execution_count": 24,
   "metadata": {
    "collapsed": true
   },
   "outputs": [],
   "source": [
    "#customized metric - doesn't already exist ?!?\n",
    "def r_squared(y_true, y_pred):\n",
    "    ''' Customized loss function for R^2 \n",
    "    y_true = Keras tensor of actual values\n",
    "    y_pred = Keras tensor of predicted values\n",
    "    \n",
    "    '''\n",
    "    mu = K.mean(y_true)\n",
    "    tss = K.sum(K.square(y_true - mu)) #total sum of squares\n",
    "    rss = K.sum(K.square(y_true - y_pred)) #residual sum of squares\n",
    "\n",
    "    return (1 - rss/(K.epsilon() + tss))\n",
    "\n",
    "#each hidden layer can be a different size\n",
    "def nn_model(layers, activation, optimizer, input_shape, alpha=1):\n",
    "    '''Neural net model of only dense layers\n",
    "\n",
    "    layers: List of integers, the number of hidden units in each layer\n",
    "    activation:  String, name of activation function used for each layer ('relu', etc.)\n",
    "    optimizer:  String, name of optimization algorithm ('sgd', etc.)\n",
    "    input_shape:  Sequence of integers, dimensions of the input layer\n",
    "    '''\n",
    "\n",
    "    model = Sequential()\n",
    "   \n",
    "    first_layer = True\n",
    "\n",
    "    for layer in layers:\n",
    "        #if 1st layer, need to specify input shape\n",
    "        if first_layer:\n",
    "            model.add(Dense(layer, input_shape = input_shape, kernel_regularizer=regularizers.l2(alpha)) )\n",
    "            first_layer = False\n",
    "        else:\n",
    "            model.add(Dense(layer, kernel_regularizer=regularizers.l2(alpha)))\n",
    "\n",
    "        model.add(Activation(activation))\n",
    "\n",
    "    model.add(Dense(1))\n",
    "    model.add(Activation('linear'))\n",
    "    \n",
    "    model.compile(loss='mean_squared_error',\n",
    "                  optimizer=optimizer,\n",
    "                  metrics=[r_squared])\n",
    "\n",
    "    return model\n",
    "\n",
    "#each hidden layer is the same size\n",
    "def nn_model_same_size(layer_size, no_layers, activation, optimizer, input_shape, alpha=1):\n",
    "    '''Neural net model of only dense layers\n",
    "\n",
    "    layer_size: Integer, the number of hidden units in each layer\n",
    "    no_layers: Integer, the number of hidden layers\n",
    "    activation:  String, name of activation function used for each layer ('relu', etc.)\n",
    "    optimizer:  String, name of optimization algorithm ('sgd', etc.)\n",
    "    input_shape:  Sequence of integers, dimensions of the input layer\n",
    "    '''\n",
    "\n",
    "    model = Sequential()\n",
    "\n",
    "    for layer in range(no_layers):\n",
    "        #if 1st layer, need to specify input shape\n",
    "        if layer:\n",
    "            model.add(Dense(layer_size, kernel_regularizer=regularizers.l2(alpha)))\n",
    "        else:\n",
    "            model.add(Dense(layer_size, input_shape = input_shape, kernel_regularizer=regularizers.l2(alpha)) )\n",
    "            \n",
    "        model.add(Activation(activation))\n",
    "\n",
    "    model.add(Dense(1))\n",
    "    model.add(Activation('linear'))\n",
    "    \n",
    "    model.compile(loss='mean_squared_error',\n",
    "                  optimizer=optimizer,\n",
    "                  metrics=[r_squared])\n",
    "\n",
    "    return model"
   ]
  },
  {
   "cell_type": "markdown",
   "metadata": {},
   "source": [
    "Let's do a sanity check:"
   ]
  },
  {
   "cell_type": "code",
   "execution_count": 27,
   "metadata": {},
   "outputs": [
    {
     "name": "stdout",
     "output_type": "stream",
     "text": [
      "309/309 [==============================] - 0s 100us/step\n"
     ]
    },
    {
     "data": {
      "text/plain": [
       "[31.176885783865227, 0.89062236967981823]"
      ]
     },
     "execution_count": 27,
     "metadata": {},
     "output_type": "execute_result"
    }
   ],
   "source": [
    "myModel = nn_model_same_size(50, 2, 'tanh', 'sgd', (X_train.shape[1],), alpha=0)\n",
    "myModel.fit(X_train, y_train, epochs=200, batch_size=32, verbose=0)\n",
    "myModel.evaluate(X_test, y_test)"
   ]
  },
  {
   "cell_type": "markdown",
   "metadata": {},
   "source": [
    "Ok, that's pretty close to the above result.  Let's set up a grid search.  "
   ]
  },
  {
   "cell_type": "code",
   "execution_count": 29,
   "metadata": {},
   "outputs": [],
   "source": [
    "#Based on this post on using GridSearchCV with keras:\n",
    "#    https://machinelearningmastery.com/grid-search-hyperparameters-deep-learning-models-python-keras/\n",
    "keras_model = KerasRegressor(build_fn=nn_model_same_size, input_shape=(X_train.shape[1],), alpha=0)\n",
    "layer_list = (10, 20, 30, 40, 50, 60, 70, 80, 90, 100)\n",
    "layer_depth = (1, 2)\n",
    "\n",
    "grid_search = GridSearchCV(keras_model\n",
    "                         ,param_grid={'layer_size': layer_list\n",
    "                                      ,'no_layers': layer_depth\n",
    "                                     ,'activation': ('tanh',)\n",
    "                                     ,'optimizer': ('sgd',)\n",
    "                                     } \n",
    "                        ,scoring='r2'\n",
    "                        \n",
    "                        )\n",
    "result = grid_search.fit(X_train, y_train, epochs=200, batch_size=32, verbose=0)"
   ]
  },
  {
   "cell_type": "code",
   "execution_count": 30,
   "metadata": {},
   "outputs": [
    {
     "name": "stdout",
     "output_type": "stream",
     "text": [
      "0.961116 +/- 0.023201 with: {'optimizer': 'sgd', 'activation': 'tanh', 'no_layers': 2, 'layer_size': 100}\n",
      "0.959955 +/- 0.006217 with: {'optimizer': 'sgd', 'activation': 'tanh', 'no_layers': 1, 'layer_size': 50}\n",
      "0.958119 +/- 0.032429 with: {'optimizer': 'sgd', 'activation': 'tanh', 'no_layers': 2, 'layer_size': 80}\n",
      "0.954299 +/- 0.023271 with: {'optimizer': 'sgd', 'activation': 'tanh', 'no_layers': 2, 'layer_size': 50}\n",
      "0.953913 +/- 0.012453 with: {'optimizer': 'sgd', 'activation': 'tanh', 'no_layers': 1, 'layer_size': 100}\n",
      "0.950023 +/- 0.023831 with: {'optimizer': 'sgd', 'activation': 'tanh', 'no_layers': 1, 'layer_size': 60}\n",
      "0.946878 +/- 0.020900 with: {'optimizer': 'sgd', 'activation': 'tanh', 'no_layers': 2, 'layer_size': 20}\n",
      "0.943221 +/- 0.028370 with: {'optimizer': 'sgd', 'activation': 'tanh', 'no_layers': 2, 'layer_size': 40}\n",
      "0.940524 +/- 0.023282 with: {'optimizer': 'sgd', 'activation': 'tanh', 'no_layers': 1, 'layer_size': 90}\n",
      "0.938671 +/- 0.035629 with: {'optimizer': 'sgd', 'activation': 'tanh', 'no_layers': 2, 'layer_size': 90}\n",
      "0.935409 +/- 0.059755 with: {'optimizer': 'sgd', 'activation': 'tanh', 'no_layers': 2, 'layer_size': 30}\n",
      "0.928155 +/- 0.015710 with: {'optimizer': 'sgd', 'activation': 'tanh', 'no_layers': 1, 'layer_size': 20}\n",
      "0.921532 +/- 0.047624 with: {'optimizer': 'sgd', 'activation': 'tanh', 'no_layers': 1, 'layer_size': 80}\n",
      "0.916349 +/- 0.034581 with: {'optimizer': 'sgd', 'activation': 'tanh', 'no_layers': 1, 'layer_size': 30}\n",
      "0.909157 +/- 0.042804 with: {'optimizer': 'sgd', 'activation': 'tanh', 'no_layers': 1, 'layer_size': 70}\n",
      "0.904803 +/- 0.086697 with: {'optimizer': 'sgd', 'activation': 'tanh', 'no_layers': 2, 'layer_size': 70}\n",
      "0.896983 +/- 0.019837 with: {'optimizer': 'sgd', 'activation': 'tanh', 'no_layers': 1, 'layer_size': 10}\n",
      "0.833096 +/- 0.085615 with: {'optimizer': 'sgd', 'activation': 'tanh', 'no_layers': 2, 'layer_size': 10}\n",
      "0.815294 +/- 0.201848 with: {'optimizer': 'sgd', 'activation': 'tanh', 'no_layers': 1, 'layer_size': 40}\n",
      "0.549597 +/- 0.605130 with: {'optimizer': 'sgd', 'activation': 'tanh', 'no_layers': 2, 'layer_size': 60}\n"
     ]
    }
   ],
   "source": [
    "means = result.cv_results_['mean_train_score']\n",
    "stds = result.cv_results_['std_train_score']\n",
    "params = result.cv_results_['params']\n",
    "#display results in order of mean r squared\n",
    "for i in np.argsort(means)[::-1]:\n",
    "   print('%f +/- %f with: %r' % (means[i], stds[i], params[i]))"
   ]
  },
  {
   "cell_type": "markdown",
   "metadata": {},
   "source": [
    "So, the bigger the better.  Let's see the test scores:"
   ]
  },
  {
   "cell_type": "code",
   "execution_count": 31,
   "metadata": {},
   "outputs": [
    {
     "name": "stdout",
     "output_type": "stream",
     "text": [
      "0.864078 +/- 0.023153 with: {'optimizer': 'sgd', 'activation': 'tanh', 'no_layers': 1, 'layer_size': 50}\n",
      "0.859458 +/- 0.020838 with: {'optimizer': 'sgd', 'activation': 'tanh', 'no_layers': 1, 'layer_size': 100}\n",
      "0.858371 +/- 0.024622 with: {'optimizer': 'sgd', 'activation': 'tanh', 'no_layers': 1, 'layer_size': 60}\n",
      "0.856091 +/- 0.013983 with: {'optimizer': 'sgd', 'activation': 'tanh', 'no_layers': 1, 'layer_size': 90}\n",
      "0.838957 +/- 0.018597 with: {'optimizer': 'sgd', 'activation': 'tanh', 'no_layers': 1, 'layer_size': 80}\n",
      "0.837682 +/- 0.005423 with: {'optimizer': 'sgd', 'activation': 'tanh', 'no_layers': 2, 'layer_size': 100}\n",
      "0.833136 +/- 0.039102 with: {'optimizer': 'sgd', 'activation': 'tanh', 'no_layers': 1, 'layer_size': 20}\n",
      "0.830775 +/- 0.021695 with: {'optimizer': 'sgd', 'activation': 'tanh', 'no_layers': 1, 'layer_size': 70}\n",
      "0.829430 +/- 0.011959 with: {'optimizer': 'sgd', 'activation': 'tanh', 'no_layers': 1, 'layer_size': 10}\n",
      "0.829155 +/- 0.042371 with: {'optimizer': 'sgd', 'activation': 'tanh', 'no_layers': 1, 'layer_size': 30}\n",
      "0.827802 +/- 0.026931 with: {'optimizer': 'sgd', 'activation': 'tanh', 'no_layers': 2, 'layer_size': 80}\n",
      "0.821802 +/- 0.008474 with: {'optimizer': 'sgd', 'activation': 'tanh', 'no_layers': 2, 'layer_size': 50}\n",
      "0.816145 +/- 0.022180 with: {'optimizer': 'sgd', 'activation': 'tanh', 'no_layers': 2, 'layer_size': 30}\n",
      "0.807294 +/- 0.014186 with: {'optimizer': 'sgd', 'activation': 'tanh', 'no_layers': 2, 'layer_size': 40}\n",
      "0.801221 +/- 0.022660 with: {'optimizer': 'sgd', 'activation': 'tanh', 'no_layers': 2, 'layer_size': 90}\n",
      "0.800978 +/- 0.013695 with: {'optimizer': 'sgd', 'activation': 'tanh', 'no_layers': 2, 'layer_size': 20}\n",
      "0.778068 +/- 0.088319 with: {'optimizer': 'sgd', 'activation': 'tanh', 'no_layers': 2, 'layer_size': 70}\n",
      "0.722021 +/- 0.038963 with: {'optimizer': 'sgd', 'activation': 'tanh', 'no_layers': 2, 'layer_size': 10}\n",
      "0.682266 +/- 0.263433 with: {'optimizer': 'sgd', 'activation': 'tanh', 'no_layers': 1, 'layer_size': 40}\n",
      "0.434758 +/- 0.550688 with: {'optimizer': 'sgd', 'activation': 'tanh', 'no_layers': 2, 'layer_size': 60}\n"
     ]
    }
   ],
   "source": [
    "means = result.cv_results_['mean_test_score']\n",
    "stds = result.cv_results_['std_test_score']\n",
    "params = result.cv_results_['params']\n",
    "\n",
    "for i in np.argsort(means)[::-1]:\n",
    "   print('%f +/- %f with: %r' % (means[i], stds[i], params[i]))"
   ]
  },
  {
   "cell_type": "markdown",
   "metadata": {},
   "source": [
    "Ok, so maybe the larger networks are overfitting.  Let's use a single 50-unit hidden layer."
   ]
  },
  {
   "cell_type": "markdown",
   "metadata": {},
   "source": [
    "Next, try varying alpha to reduce overfitting:"
   ]
  },
  {
   "cell_type": "code",
   "execution_count": 32,
   "metadata": {},
   "outputs": [],
   "source": [
    "keras_model = KerasRegressor(build_fn=nn_model_same_size, input_shape=(X_train.shape[1],))\n",
    "\n",
    "alpha_list = (0, 0.0001, 0.001, 0.01, 0.1, 1)\n",
    "\n",
    "grid_search = GridSearchCV(keras_model\n",
    "                         ,param_grid={'layer_size': (50,)\n",
    "                                      ,'no_layers': (1,)\n",
    "                                     ,'activation': ('tanh', )\n",
    "                                     ,'optimizer': ('sgd',)\n",
    "                                    ,'alpha': alpha_list\n",
    "                                     } \n",
    "                        ,scoring='r2'\n",
    "                        \n",
    "                        )\n",
    "result = grid_search.fit(X_train, y_train, epochs=200, batch_size=32, verbose=0)"
   ]
  },
  {
   "cell_type": "code",
   "execution_count": 33,
   "metadata": {},
   "outputs": [
    {
     "name": "stdout",
     "output_type": "stream",
     "text": [
      "0.862485 +/- 0.013195 with: {'alpha': 0.0001, 'activation': 'tanh', 'optimizer': 'sgd', 'no_layers': 1, 'layer_size': 50}\n",
      "0.860817 +/- 0.019792 with: {'alpha': 0.001, 'activation': 'tanh', 'optimizer': 'sgd', 'no_layers': 1, 'layer_size': 50}\n",
      "0.851777 +/- 0.018501 with: {'alpha': 0, 'activation': 'tanh', 'optimizer': 'sgd', 'no_layers': 1, 'layer_size': 50}\n",
      "0.845669 +/- 0.009952 with: {'alpha': 0.01, 'activation': 'tanh', 'optimizer': 'sgd', 'no_layers': 1, 'layer_size': 50}\n",
      "0.816843 +/- 0.052016 with: {'alpha': 0.1, 'activation': 'tanh', 'optimizer': 'sgd', 'no_layers': 1, 'layer_size': 50}\n",
      "0.382342 +/- 0.189443 with: {'alpha': 1, 'activation': 'tanh', 'optimizer': 'sgd', 'no_layers': 1, 'layer_size': 50}\n"
     ]
    }
   ],
   "source": [
    "means = result.cv_results_['mean_test_score']\n",
    "stds = result.cv_results_['std_test_score']\n",
    "params = result.cv_results_['params']\n",
    "\n",
    "for i in np.argsort(means)[::-1]:\n",
    "   print('%f +/- %f with: %r' % (means[i], stds[i], params[i]))"
   ]
  },
  {
   "cell_type": "markdown",
   "metadata": {
    "collapsed": true
   },
   "source": [
    "Well, the smallest values of alpha are within the errors of the best R squared value, so that doesn't seem any better."
   ]
  },
  {
   "cell_type": "markdown",
   "metadata": {},
   "source": [
    "Finally, let's try with the real test data:"
   ]
  },
  {
   "cell_type": "code",
   "execution_count": 34,
   "metadata": {},
   "outputs": [
    {
     "data": {
      "text/plain": [
       "0.89563490158806136"
      ]
     },
     "execution_count": 34,
     "metadata": {},
     "output_type": "execute_result"
    }
   ],
   "source": [
    "grid_search.score(X_test, y_test)"
   ]
  },
  {
   "cell_type": "markdown",
   "metadata": {},
   "source": [
    "The best R squared value found using MLPRegressor was 0.9173.  "
   ]
  },
  {
   "cell_type": "code",
   "execution_count": null,
   "metadata": {
    "collapsed": true
   },
   "outputs": [],
   "source": []
  }
 ],
 "metadata": {
  "anaconda-cloud": {},
  "kernelspec": {
   "display_name": "Python [conda env:python3]",
   "language": "python",
   "name": "conda-env-python3-py"
  },
  "language_info": {
   "codemirror_mode": {
    "name": "ipython",
    "version": 3
   },
   "file_extension": ".py",
   "mimetype": "text/x-python",
   "name": "python",
   "nbconvert_exporter": "python",
   "pygments_lexer": "ipython3",
   "version": "3.5.3"
  }
 },
 "nbformat": 4,
 "nbformat_minor": 1
}
